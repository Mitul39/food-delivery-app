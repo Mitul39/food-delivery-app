{
 "cells": [
  {
   "cell_type": "code",
   "execution_count": 11,
   "id": "f719a157-7ed5-47e0-822a-604efce05133",
   "metadata": {},
   "outputs": [
    {
     "name": "stdout",
     "output_type": "stream",
     "text": [
      "\n",
      "Online Food Delivery System\n",
      "1. Place an order\n",
      "2. Display total revenue\n",
      "3. Display unique customers\n",
      "4. Exit\n"
     ]
    },
    {
     "name": "stdin",
     "output_type": "stream",
     "text": [
      "Enter your choice:  1\n",
      "Enter your name:  ere\n",
      "Enter shop name (Danny's, Sweat-spot, Yogi):  Danny's\n"
     ]
    },
    {
     "name": "stdout",
     "output_type": "stream",
     "text": [
      "\n",
      "Select items from the menu:\n",
      "\n",
      "Menu for Danny's:\n",
      "Pizza: 220 (Italian)\n",
      "Toast: 100 (Mexican)\n",
      "Maggie: 60 (Fast Food)\n",
      "Fries: 90 (French)\n",
      "Coffee: 25 (Beverage)\n"
     ]
    },
    {
     "name": "stdin",
     "output_type": "stream",
     "text": [
      "Enter item name (or 'done' to finish):  Pizza\n",
      "Enter item name (or 'done' to finish):  done\n"
     ]
    },
    {
     "name": "stdout",
     "output_type": "stream",
     "text": [
      "\n",
      "Order placed successfully from Danny's! Your total bill is: 220\n",
      "\n",
      "Online Food Delivery System\n",
      "1. Place an order\n",
      "2. Display total revenue\n",
      "3. Display unique customers\n",
      "4. Exit\n"
     ]
    },
    {
     "name": "stdin",
     "output_type": "stream",
     "text": [
      "Enter your choice:  4\n"
     ]
    },
    {
     "name": "stdout",
     "output_type": "stream",
     "text": [
      "\n",
      "Thank you for using the Online Food Delivery System!\n"
     ]
    }
   ],
   "source": [
    "menu = {\n",
    "    \"Danny's\": {\n",
    "       \"Pizza\": (220, \"Italian\"),\n",
    "        \"Toast\": (100, \"Mexican\"),\n",
    "        \"Maggie\": (60, \"Fast Food\"),\n",
    "        \"Fries\": (90, \"French\"),\n",
    "        \"Coffee\": (25, \"Beverage\")\n",
    "    },\n",
    "    \"Sweat-spot\": {\n",
    "        \"Thepla\": (30, \"Desi\"),\n",
    "        \"Pizza\": (170, \"Fast Food\"),\n",
    "        \"Burger\": (100, \"Fast Food\"),\n",
    "        \"Hot Chocolate\": (50, \"Beverage\"),\n",
    "        \"Salad\": (120, \"Healthy\")\n",
    "    },\n",
    "    \"Yogi\": {\n",
    "        \"Sandwich\": (120, \"Snack\"),\n",
    "        \"Puff\": (25, \"Fast Food\"),\n",
    "        \"Coco\": (40, \"Beverage\"),\n",
    "        \"Juice\": (60, \"Beverage\")\n",
    "    }\n",
    "}\n",
    "\n",
    "orders = []\n",
    "unique_customers = set()\n",
    "\n",
    "def display_menu(shop_name):\n",
    "    if shop_name in menu:\n",
    "        print(f\"\\nMenu for {shop_name}:\")\n",
    "        for item, (price, category) in menu[shop_name].items():\n",
    "            print(f\"{item}: {price} ({category})\")\n",
    "    else:\n",
    "        print(\"Shop not found.\")\n",
    "\n",
    "def place_order():\n",
    "    customer_name = input(\"Enter your name: \").strip()\n",
    "    unique_customers.add(customer_name)\n",
    "\n",
    "    shop_name = input(\"Enter shop name (Danny's, Sweat-spot, Yogi): \").strip()\n",
    "    if shop_name not in menu:\n",
    "        print(\"Shop not found. Order not placed.\")\n",
    "        return\n",
    "\n",
    "    print(\"\\nSelect items from the menu:\")\n",
    "    display_menu(shop_name)\n",
    "\n",
    "    item_list = []\n",
    "    total_bill = 0\n",
    "\n",
    "    while True:\n",
    "        item = input(\"Enter item name (or 'done' to finish): \").strip()\n",
    "        if item.lower() == 'done':\n",
    "            break\n",
    "        if item in menu[shop_name]:\n",
    "            item_list.append(item)\n",
    "            total_bill += menu[shop_name][item][0]\n",
    "        else:\n",
    "            print(\"Item not found. Please select an item from the menu.\")\n",
    "\n",
    "    if item_list:\n",
    "        order_id = len(orders) + 1\n",
    "        orders.append((order_id, customer_name, shop_name, item_list, total_bill))\n",
    "        print(f\"\\nOrder placed successfully from {shop_name}! Your total bill is: {total_bill}\")\n",
    "    else:\n",
    "        print(\"No items selected. Order not placed.\")\n",
    "\n",
    "def display_revenue():\n",
    "    total_revenue = sum(order[4] for order in orders)\n",
    "    print(f\"\\nTotal revenue generated: {total_revenue}\")\n",
    "\n",
    "def display_unique_customers():\n",
    "    print(\"\\nUnique customers who placed orders:\")\n",
    "    for customer in unique_customers:\n",
    "        print(customer)\n",
    "\n",
    "def main():\n",
    "    while True:\n",
    "        print(\"\\nOnline Food Delivery System\")\n",
    "        print(\"1. Place an order\")\n",
    "        print(\"2. Display total revenue\")\n",
    "        print(\"3. Display unique customers\")\n",
    "        print(\"4. Exit\")\n",
    "\n",
    "        choice = input(\"Enter your choice: \").strip()\n",
    "\n",
    "        if choice == '1':\n",
    "            place_order()\n",
    "        elif choice == '2':\n",
    "            display_revenue()\n",
    "        elif choice == '3':\n",
    "            display_unique_customers()\n",
    "        elif choice == '4':\n",
    "            print(\"\\nThank you for using the Online Food Delivery System!\")\n",
    "            break\n",
    "        else:\n",
    "            print(\"Invalid choice. Please try again.\")\n",
    "\n",
    "if __name__ == \"__main__\":\n",
    "    main()\n"
   ]
  },
  {
   "cell_type": "code",
   "execution_count": null,
   "id": "6ee11aaf-922d-4add-a7b5-d1fdc5f839a7",
   "metadata": {},
   "outputs": [
    {
     "name": "stdout",
     "output_type": "stream",
     "text": [
      "\n",
      "--- Online Food Delivery System ---\n",
      "1. Place Order\n",
      "2. Display Revenue\n",
      "3. Display Customers\n",
      "4. Exit\n"
     ]
    },
    {
     "name": "stdin",
     "output_type": "stream",
     "text": [
      "Enter your choice:  1\n",
      "Enter your name:  ty\n",
      "Choose a shop (Danny's, Sweat-spot, Yogi):  yogi\n"
     ]
    },
    {
     "name": "stdout",
     "output_type": "stream",
     "text": [
      "\n",
      "--- Yogi Menu ---\n",
      "Sandwich             - $120.00 (Snack)\n",
      "Puff                 - $25.00 (Fast Food)\n",
      "Coco                 - $40.00 (Beverage)\n",
      "Juice                - $60.00 (Beverage)\n"
     ]
    }
   ],
   "source": [
    "menus = {\n",
    "    \"Danny's\": {\n",
    "       \"Pizza\": (220, \"Italian\"),\n",
    "        \"Toast\": (100, \"Mexican\"),\n",
    "        \"Maggie\": (60, \"Fast Food\"),\n",
    "        \"Fries\": (90, \"French\"),\n",
    "        \"Coffee\": (25, \"Beverage\")\n",
    "    },\n",
    "    \"Sweat-spot\": {\n",
    "        \"Thepla\": (30, \"Desi\"),\n",
    "        \"Pizza\": (170, \"Fast Food\"),\n",
    "        \"Burger\": (100, \"Fast Food\"),\n",
    "        \"Hot Chocolate\": (50, \"Beverage\"),\n",
    "        \"Salad\": (120, \"Healthy\")\n",
    "    },\n",
    "    \"Yogi\": {\n",
    "        \"Sandwich\": (120, \"Snack\"),\n",
    "        \"Puff\": (25, \"Fast Food\"),\n",
    "        \"Coco\": (40, \"Beverage\"),\n",
    "        \"Juice\": (60, \"Beverage\")\n",
    "    },\n",
    "}\n",
    "\n",
    "orders = []  \n",
    "customers = set()  \n",
    "\n",
    "\n",
    "def display_menu(shop_name):\n",
    "    \"\"\"Displays the menu for a given shop.\"\"\"\n",
    "    print(f\"\\n--- {shop_name} Menu ---\")\n",
    "    if shop_name in menus:\n",
    "        for item, (price, category) in menus[shop_name].items():\n",
    "            print(f\"{item:<20} - ${price:.2f} ({category})\")\n",
    "    else:\n",
    "        print(\"Shop not found.\")\n",
    "\n",
    "\n",
    "def place_order():\n",
    "    \"\"\"Allows the user to place an order.\"\"\"\n",
    "    customer_name = input(\"Enter your name: \")\n",
    "    shop_name = input(\"Choose a shop (Danny's, Sweat-spot, Yogi): \").capitalize()\n",
    "\n",
    "    if shop_name not in menus:\n",
    "        print(\"Invalid shop name. Please try again.\")\n",
    "        return\n",
    "\n",
    "    display_menu(shop_name)\n",
    "    order_items = []\n",
    "    total_bill = 0\n",
    "\n",
    "    while True:\n",
    "        item_name = input(\"Enter item name (or 'done' to finish): \").title()\n",
    "        if item_name == \"Done\":\n",
    "            break\n",
    "\n",
    "        if item_name in menus[shop_name]:\n",
    "            order_items.append(item_name)\n",
    "            total_bill += menus[shop_name][item_name][0]\n",
    "        else:\n",
    "            print(\"Invalid item name. Please try again.\")\n",
    "\n",
    "    order_id = len(orders) + 1\n",
    "    order = (order_id, customer_name, order_items, total_bill)\n",
    "    orders.append(order)\n",
    "    customers.add(customer_name)\n",
    "\n",
    "    print(\"\\n--- Order Summary ---\")\n",
    "    print(f\"Order ID: {order_id}\")\n",
    "    print(f\"Customer Name: {customer_name}\")\n",
    "    print(\"Items:\")\n",
    "    for item in order_items:\n",
    "        print(f\"\\t- {item}\")\n",
    "    print(f\"Total Bill: ${total_bill:.2f}\")\n",
    "    print(\"Thank you for your order!\")\n",
    "\n",
    "\n",
    "def display_revenue():\n",
    "    \"\"\"Calculates and displays the total revenue.\"\"\"\n",
    "    total_revenue = sum(order[3] for order in orders)\n",
    "    print(f\"\\nTotal Revenue: ${total_revenue:.2f}\")\n",
    "\n",
    "\n",
    "def display_customers():\n",
    "    \"\"\"Displays the unique customers who have placed orders.\"\"\"\n",
    "    print(\"\\nUnique Customers:\")\n",
    "    for customer in customers:\n",
    "        print(f\"- {customer}\")\n",
    "\n",
    "def main():\n",
    "    while True:\n",
    "        print(\"\\n--- Online Food Delivery System ---\")\n",
    "        print(\"1. Place Order\")\n",
    "        print(\"2. Display Revenue\")\n",
    "        print(\"3. Display Customers\")\n",
    "        print(\"4. Exit\")\n",
    "    \n",
    "        choice = input(\"Enter your choice: \")\n",
    "    \n",
    "        if choice == \"1\":\n",
    "            place_order()\n",
    "        elif choice == \"2\":\n",
    "            display_revenue()\n",
    "        elif choice == \"3\":\n",
    "            display_customers()\n",
    "        elif choice == \"4\":\n",
    "            print(\"Exiting the system...\")\n",
    "            break\n",
    "        else:\n",
    "            print(\"Invalid choice. Please try again.\")\n",
    "\n",
    "if __name__ == \"__main__\":\n",
    "    main()"
   ]
  },
  {
   "cell_type": "code",
   "execution_count": 15,
   "id": "0a5c77b6-2e0b-4738-8356-90845da7d077",
   "metadata": {},
   "outputs": [
    {
     "name": "stdout",
     "output_type": "stream",
     "text": [
      "\n",
      "=== Sports Management System for Spoural 2025 ===\n",
      "Select a sport:\n",
      "1. Kabaddi\n",
      "2. Cricket\n",
      "3. Volleyball\n",
      "4. Basketball\n",
      "5. Badminton\n",
      "6. Exit\n"
     ]
    },
    {
     "name": "stdin",
     "output_type": "stream",
     "text": [
      "Enter your choice:  2\n"
     ]
    },
    {
     "name": "stdout",
     "output_type": "stream",
     "text": [
      "\n",
      "Participants in Cricket:\n",
      "1. Name: Anil Sharma, Contact: 9123456780\n",
      "2. Name: Vijay Mehta, Contact: 8901234567\n"
     ]
    },
    {
     "name": "stdin",
     "output_type": "stream",
     "text": [
      "Do you want to (A)dd a participant or (V)iew participants in Cricket? (A/V):  v\n"
     ]
    },
    {
     "name": "stdout",
     "output_type": "stream",
     "text": [
      "\n",
      "Participants in Cricket:\n",
      "1. Name: Anil Sharma, Contact: 9123456780\n",
      "2. Name: Vijay Mehta, Contact: 8901234567\n",
      "\n",
      "=== Sports Management System for Spoural 2025 ===\n",
      "Select a sport:\n",
      "1. Kabaddi\n",
      "2. Cricket\n",
      "3. Volleyball\n",
      "4. Basketball\n",
      "5. Badminton\n",
      "6. Exit\n"
     ]
    },
    {
     "name": "stdin",
     "output_type": "stream",
     "text": [
      "Enter your choice:  2\n"
     ]
    },
    {
     "name": "stdout",
     "output_type": "stream",
     "text": [
      "\n",
      "Participants in Cricket:\n",
      "1. Name: Anil Sharma, Contact: 9123456780\n",
      "2. Name: Vijay Mehta, Contact: 8901234567\n"
     ]
    },
    {
     "name": "stdin",
     "output_type": "stream",
     "text": [
      "Do you want to (A)dd a participant or (V)iew participants in Cricket? (A/V):  a\n",
      "Enter participant's name:  Mitul\n",
      "Enter participant's contact:  7984734745\n"
     ]
    },
    {
     "name": "stdout",
     "output_type": "stream",
     "text": [
      "Added participant: Name: Mitul, Contact: 7984734745 to Cricket\n",
      "\n",
      "=== Sports Management System for Spoural 2025 ===\n",
      "Select a sport:\n",
      "1. Kabaddi\n",
      "2. Cricket\n",
      "3. Volleyball\n",
      "4. Basketball\n",
      "5. Badminton\n",
      "6. Exit\n"
     ]
    },
    {
     "name": "stdin",
     "output_type": "stream",
     "text": [
      "Enter your choice:  2\n"
     ]
    },
    {
     "name": "stdout",
     "output_type": "stream",
     "text": [
      "\n",
      "Participants in Cricket:\n",
      "1. Name: Anil Sharma, Contact: 9123456780\n",
      "2. Name: Vijay Mehta, Contact: 8901234567\n",
      "3. Name: Mitul, Contact: 7984734745\n"
     ]
    },
    {
     "name": "stdin",
     "output_type": "stream",
     "text": [
      "Do you want to (A)dd a participant or (V)iew participants in Cricket? (A/V):  v\n"
     ]
    },
    {
     "name": "stdout",
     "output_type": "stream",
     "text": [
      "\n",
      "Participants in Cricket:\n",
      "1. Name: Anil Sharma, Contact: 9123456780\n",
      "2. Name: Vijay Mehta, Contact: 8901234567\n",
      "3. Name: Mitul, Contact: 7984734745\n",
      "\n",
      "=== Sports Management System for Spoural 2025 ===\n",
      "Select a sport:\n",
      "1. Kabaddi\n",
      "2. Cricket\n",
      "3. Volleyball\n",
      "4. Basketball\n",
      "5. Badminton\n",
      "6. Exit\n"
     ]
    },
    {
     "name": "stdin",
     "output_type": "stream",
     "text": [
      "Enter your choice:  5\n"
     ]
    },
    {
     "name": "stdout",
     "output_type": "stream",
     "text": [
      "\n",
      "Participants in Badminton:\n",
      "1. Name: Neha Gupta, Contact: 4567890123\n",
      "2. Name: Suresh Rathi, Contact: 2345678901\n"
     ]
    },
    {
     "name": "stdin",
     "output_type": "stream",
     "text": [
      "Do you want to (A)dd a participant or (V)iew participants in Badminton? (A/V):  a\n",
      "Enter participant's name:  Mitul\n",
      "Enter participant's contact:  7984734745\n"
     ]
    },
    {
     "name": "stdout",
     "output_type": "stream",
     "text": [
      "Added participant: Name: Mitul, Contact: 7984734745 to Badminton\n",
      "\n",
      "=== Sports Management System for Spoural 2025 ===\n",
      "Select a sport:\n",
      "1. Kabaddi\n",
      "2. Cricket\n",
      "3. Volleyball\n",
      "4. Basketball\n",
      "5. Badminton\n",
      "6. Exit\n"
     ]
    },
    {
     "name": "stdin",
     "output_type": "stream",
     "text": [
      "Enter your choice:  5\n"
     ]
    },
    {
     "name": "stdout",
     "output_type": "stream",
     "text": [
      "\n",
      "Participants in Badminton:\n",
      "1. Name: Neha Gupta, Contact: 4567890123\n",
      "2. Name: Suresh Rathi, Contact: 2345678901\n",
      "3. Name: Mitul, Contact: 7984734745\n"
     ]
    },
    {
     "name": "stdin",
     "output_type": "stream",
     "text": [
      "Do you want to (A)dd a participant or (V)iew participants in Badminton? (A/V):  v\n"
     ]
    },
    {
     "name": "stdout",
     "output_type": "stream",
     "text": [
      "\n",
      "Participants in Badminton:\n",
      "1. Name: Neha Gupta, Contact: 4567890123\n",
      "2. Name: Suresh Rathi, Contact: 2345678901\n",
      "3. Name: Mitul, Contact: 7984734745\n",
      "\n",
      "=== Sports Management System for Spoural 2025 ===\n",
      "Select a sport:\n",
      "1. Kabaddi\n",
      "2. Cricket\n",
      "3. Volleyball\n",
      "4. Basketball\n",
      "5. Badminton\n",
      "6. Exit\n"
     ]
    },
    {
     "name": "stdin",
     "output_type": "stream",
     "text": [
      "Enter your choice:  6\n"
     ]
    },
    {
     "name": "stdout",
     "output_type": "stream",
     "text": [
      "Exiting the system.\n"
     ]
    }
   ],
   "source": [
    "class Participant:\n",
    "    def __init__(self, name, contact): \n",
    "        self.name = name\n",
    "        self.contact = contact\n",
    "\n",
    "    def __str__(self): \n",
    "        return f\"Name: {self.name}, Contact: {self.contact}\"\n",
    "\n",
    "\n",
    "class SportsManagementSystem:\n",
    "    def __init__(self): \n",
    "        self.sports = {\n",
    "            \"Kabaddi\": [Participant(\"Ravi Kumar\", \"9876543210\"), Participant(\"Deepak Singh\", \"8765432109\")],\n",
    "            \"Cricket\": [Participant(\"Anil Sharma\", \"9123456780\"), Participant(\"Vijay Mehta\", \"8901234567\")],\n",
    "            \"Volleyball\": [Participant(\"Sneha Patel\", \"9988776655\"), Participant(\"Priya Iyer\", \"7654321098\")],\n",
    "            \"Basketball\": [Participant(\"Ajay Bansal\", \"1234567890\"), Participant(\"Rohit Agarwal\", \"5678901234\")],\n",
    "            \"Badminton\": [Participant(\"Neha Gupta\", \"4567890123\"), Participant(\"Suresh Rathi\", \"2345678901\")],\n",
    "        }\n",
    "\n",
    "    def add_participant(self, sport, name, contact):\n",
    "        if sport in self.sports:\n",
    "            participant = Participant(name, contact)\n",
    "            self.sports[sport].append(participant)\n",
    "            print(f\"Added participant: {participant} to {sport}\")\n",
    "        else:\n",
    "            print(\"Invalid sport selected.\")\n",
    "\n",
    "    def view_participants(self, sport):\n",
    "        if sport in self.sports:\n",
    "            print(f\"\\nParticipants in {sport}:\")\n",
    "            if not self.sports[sport]:\n",
    "                print(\"No participants registered.\")\n",
    "            else:\n",
    "                for idx, participant in enumerate(self.sports[sport], start=1):\n",
    "                    print(f\"{idx}. {participant}\")\n",
    "        else:\n",
    "            print(\"Invalid sport selected.\")\n",
    "\n",
    "    def run(self):\n",
    "        while True:\n",
    "            print(\"\\n=== Sports Management System for Spoural 2025 ===\")\n",
    "            print(\"Select a sport:\")\n",
    "            print(\"1. Kabaddi\")\n",
    "            print(\"2. Cricket\")\n",
    "            print(\"3. Volleyball\")\n",
    "            print(\"4. Basketball\")\n",
    "            print(\"5. Badminton\")\n",
    "            print(\"6. Exit\")\n",
    "\n",
    "            choice = input(\"Enter your choice: \")\n",
    "\n",
    "            if choice in ['1', '2', '3', '4', '5']:\n",
    "                sport_mapping = {\n",
    "                    '1': \"Kabaddi\",\n",
    "                    '2': \"Cricket\",\n",
    "                    '3': \"Volleyball\",\n",
    "                    '4': \"Basketball\",\n",
    "                    '5': \"Badminton\"\n",
    "                }\n",
    "\n",
    "                sport = sport_mapping[choice]\n",
    "                self.view_participants(sport) \n",
    "\n",
    "                action = input(f\"Do you want to (A)dd a participant or (V)iew participants in {sport}? (A/V): \").strip().lower()\n",
    "\n",
    "                if action == 'a':\n",
    "                    name = input(\"Enter participant's name: \")\n",
    "                    contact = input(\"Enter participant's contact: \")\n",
    "                    self.add_participant(sport, name, contact)\n",
    "                elif action == 'v':\n",
    "                    self.view_participants(sport)\n",
    "                else:\n",
    "                    print(\"Invalid action. Please select 'A' to add or 'V' to view participants.\")\n",
    "\n",
    "            elif choice == '6':\n",
    "                print(\"Exiting the system.\")\n",
    "                break\n",
    "            else:\n",
    "                print(\"Invalid choice, please try again.\")\n",
    "\n",
    "\n",
    "if __name__ == \"__main__\": \n",
    "    system = SportsManagementSystem()\n",
    "    system.run()\n"
   ]
  },
  {
   "cell_type": "code",
   "execution_count": null,
   "id": "7600c1c6-6735-40cd-8aaf-b623c3c5dd7d",
   "metadata": {},
   "outputs": [],
   "source": [
    "class Participant:\n",
    "    def __init__(self, name, contact):\n",
    "        self.name = name\n",
    "        self.contact = contact\n",
    "\n",
    "    def __str__(self):\n",
    "        return f\"Name: {self.name}, Contact: {self.contact}\"\n",
    "\n",
    "\n",
    "class Sport:\n",
    "    def __init__(self, name):\n",
    "        self.name = name\n",
    "        self.participants = []\n",
    "\n",
    "    def add_participant(self, participant):\n",
    "        self.participants.append(participant)\n",
    "\n",
    "    def display_participants(self):\n",
    "        if not self.participants:\n",
    "            print(f\"No participants registered for {self.name}.\")\n",
    "        else:\n",
    "            print(f\"Participants in {self.name}:\")\n",
    "            for participant in self.participants:\n",
    "                print(participant)\n",
    "\n",
    "\n",
    "class Tournament:\n",
    "    def __init__(self, name):\n",
    "        self.name = name\n",
    "        self.sports = {\n",
    "            'Kabaddi': Sport('Kabaddi'),\n",
    "            'Volleyball': Sport('Volleyball'),\n",
    "            'Badminton': Sport('Badminton'),\n",
    "            'Basketball': Sport('Basketball'),\n",
    "            'Cricket': Sport('Cricket')\n",
    "        }\n",
    "\n",
    "    def add_participant(self, sport_name, participant_name, contact):\n",
    "        if sport_name in self.sports:\n",
    "            participant = Participant(participant_name, contact)\n",
    "            self.sports[sport_name].add_participant(participant)\n",
    "        else:\n",
    "            print(f\"Sport '{sport_name}' does not exist in the tournament.\")\n",
    "\n",
    "    def display_sports(self):\n",
    "        print(\"Available sports in the tournament:\")\n",
    "        for sport_name in self.sports.keys():\n",
    "            print(f\"- {sport_name}\")\n",
    "\n",
    "\n",
    "def main():\n",
    "    tournament = Tournament(\"Spoural 2025\")\n",
    "    \n",
    "    while True:\n",
    "        tournament.display_sports()\n",
    "        sport_name = input(\"Select a sport to register participants and view details (or type 'exit' to quit): \")\n",
    "\n",
    "        if sport_name.lower() == 'exit':\n",
    "            break\n",
    "            \n",
    "        if sport_name not in tournament.sports:\n",
    "            print(\"Invalid sport name. Please try again.\")\n",
    "            continue\n",
    "\n",
    "        action = input(f\"Do you want to add a participant to {sport_name}? (yes/no): \")\n",
    "        \n",
    "        if action.lower() == 'yes':\n",
    "            participant_name = input(\"Enter participant's name: \")\n",
    "            contact = input(\"Enter participant's contact details: \")\n",
    "            tournament.add_participant(sport_name, participant_name, contact)\n",
    "\n",
    "        tournament.sports[sport_name].display_participants()\n",
    "\n",
    "\n",
    "if __name__ == \"__main__\":\n",
    "    main()"
   ]
  },
  {
   "cell_type": "code",
   "execution_count": 8,
   "id": "4d94ef56-d135-47ca-88d0-f7a9a9e50798",
   "metadata": {},
   "outputs": [
    {
     "name": "stdout",
     "output_type": "stream",
     "text": [
      "\n",
      "=== Sports Management System for Spoural 2025 ===\n",
      "Select a sport:\n",
      "1. Kabaddi\n",
      "2. Cricket\n",
      "3. Volleyball\n",
      "4. Basketball\n",
      "5. Badminton\n",
      "6. Exit\n"
     ]
    },
    {
     "name": "stdin",
     "output_type": "stream",
     "text": [
      "Enter your choice:  1\n"
     ]
    },
    {
     "name": "stdout",
     "output_type": "stream",
     "text": [
      "\n",
      "Participants in Kabaddi:\n",
      "No participants registered.\n"
     ]
    },
    {
     "name": "stdin",
     "output_type": "stream",
     "text": [
      "Do you want to (A)dd, (V)iew, or (D)elete participants in Kabaddi? (A/V/D):  v\n"
     ]
    },
    {
     "name": "stdout",
     "output_type": "stream",
     "text": [
      "\n",
      "Participants in Kabaddi:\n",
      "No participants registered.\n",
      "\n",
      "=== Sports Management System for Spoural 2025 ===\n",
      "Select a sport:\n",
      "1. Kabaddi\n",
      "2. Cricket\n",
      "3. Volleyball\n",
      "4. Basketball\n",
      "5. Badminton\n",
      "6. Exit\n"
     ]
    },
    {
     "name": "stdin",
     "output_type": "stream",
     "text": [
      "Enter your choice:  1\n"
     ]
    },
    {
     "name": "stdout",
     "output_type": "stream",
     "text": [
      "\n",
      "Participants in Kabaddi:\n",
      "No participants registered.\n"
     ]
    },
    {
     "name": "stdin",
     "output_type": "stream",
     "text": [
      "Do you want to (A)dd, (V)iew, or (D)elete participants in Kabaddi? (A/V/D):  a\n",
      "Enter participant's name:  Mitul\n",
      "Enter participant's contact:  eewfs\n"
     ]
    },
    {
     "name": "stdout",
     "output_type": "stream",
     "text": [
      "Added participant: Name: Mitul, Contact: eewfs to Kabaddi\n",
      "\n",
      "=== Sports Management System for Spoural 2025 ===\n",
      "Select a sport:\n",
      "1. Kabaddi\n",
      "2. Cricket\n",
      "3. Volleyball\n",
      "4. Basketball\n",
      "5. Badminton\n",
      "6. Exit\n"
     ]
    },
    {
     "name": "stdin",
     "output_type": "stream",
     "text": [
      "Enter your choice:  1\n"
     ]
    },
    {
     "name": "stdout",
     "output_type": "stream",
     "text": [
      "\n",
      "Participants in Kabaddi:\n",
      "1. Name: Mitul, Contact: eewfs\n"
     ]
    },
    {
     "name": "stdin",
     "output_type": "stream",
     "text": [
      "Do you want to (A)dd, (V)iew, or (D)elete participants in Kabaddi? (A/V/D):  v\n"
     ]
    },
    {
     "name": "stdout",
     "output_type": "stream",
     "text": [
      "\n",
      "Participants in Kabaddi:\n",
      "1. Name: Mitul, Contact: eewfs\n",
      "\n",
      "=== Sports Management System for Spoural 2025 ===\n",
      "Select a sport:\n",
      "1. Kabaddi\n",
      "2. Cricket\n",
      "3. Volleyball\n",
      "4. Basketball\n",
      "5. Badminton\n",
      "6. Exit\n"
     ]
    },
    {
     "name": "stdin",
     "output_type": "stream",
     "text": [
      "Enter your choice:  1\n"
     ]
    },
    {
     "name": "stdout",
     "output_type": "stream",
     "text": [
      "\n",
      "Participants in Kabaddi:\n",
      "1. Name: Mitul, Contact: eewfs\n"
     ]
    },
    {
     "name": "stdin",
     "output_type": "stream",
     "text": [
      "Do you want to (A)dd, (V)iew, or (D)elete participants in Kabaddi? (A/V/D):  d\n",
      "Enter the name of the participant to delete:  Mitul\n"
     ]
    },
    {
     "name": "stdout",
     "output_type": "stream",
     "text": [
      "Deleted participant: Name: Mitul, Contact: eewfs from Kabaddi\n",
      "\n",
      "=== Sports Management System for Spoural 2025 ===\n",
      "Select a sport:\n",
      "1. Kabaddi\n",
      "2. Cricket\n",
      "3. Volleyball\n",
      "4. Basketball\n",
      "5. Badminton\n",
      "6. Exit\n"
     ]
    },
    {
     "name": "stdin",
     "output_type": "stream",
     "text": [
      "Enter your choice:  1\n"
     ]
    },
    {
     "name": "stdout",
     "output_type": "stream",
     "text": [
      "\n",
      "Participants in Kabaddi:\n",
      "No participants registered.\n"
     ]
    },
    {
     "name": "stdin",
     "output_type": "stream",
     "text": [
      "Do you want to (A)dd, (V)iew, or (D)elete participants in Kabaddi? (A/V/D):  a\n",
      "Enter participant's name:  Mitul\n",
      "Enter participant's contact:  ewr\n"
     ]
    },
    {
     "name": "stdout",
     "output_type": "stream",
     "text": [
      "Added participant: Name: Mitul, Contact: ewr to Kabaddi\n",
      "\n",
      "=== Sports Management System for Spoural 2025 ===\n",
      "Select a sport:\n",
      "1. Kabaddi\n",
      "2. Cricket\n",
      "3. Volleyball\n",
      "4. Basketball\n",
      "5. Badminton\n",
      "6. Exit\n"
     ]
    },
    {
     "name": "stdin",
     "output_type": "stream",
     "text": [
      "Enter your choice:  1\n"
     ]
    },
    {
     "name": "stdout",
     "output_type": "stream",
     "text": [
      "\n",
      "Participants in Kabaddi:\n",
      "1. Name: Mitul, Contact: ewr\n"
     ]
    },
    {
     "name": "stdin",
     "output_type": "stream",
     "text": [
      "Do you want to (A)dd, (V)iew, or (D)elete participants in Kabaddi? (A/V/D):  d\n",
      "Enter the name of the participant to delete:  m\n"
     ]
    },
    {
     "name": "stdout",
     "output_type": "stream",
     "text": [
      "Participant with name 'm' not found in Kabaddi.\n",
      "\n",
      "=== Sports Management System for Spoural 2025 ===\n",
      "Select a sport:\n",
      "1. Kabaddi\n",
      "2. Cricket\n",
      "3. Volleyball\n",
      "4. Basketball\n",
      "5. Badminton\n",
      "6. Exit\n"
     ]
    },
    {
     "name": "stdin",
     "output_type": "stream",
     "text": [
      "Enter your choice:  1\n"
     ]
    },
    {
     "name": "stdout",
     "output_type": "stream",
     "text": [
      "\n",
      "Participants in Kabaddi:\n",
      "1. Name: Mitul, Contact: ewr\n"
     ]
    },
    {
     "name": "stdin",
     "output_type": "stream",
     "text": [
      "Do you want to (A)dd, (V)iew, or (D)elete participants in Kabaddi? (A/V/D):  d\n",
      "Enter the name of the participant to delete:  mitul\n"
     ]
    },
    {
     "name": "stdout",
     "output_type": "stream",
     "text": [
      "Deleted participant: Name: Mitul, Contact: ewr from Kabaddi\n",
      "\n",
      "=== Sports Management System for Spoural 2025 ===\n",
      "Select a sport:\n",
      "1. Kabaddi\n",
      "2. Cricket\n",
      "3. Volleyball\n",
      "4. Basketball\n",
      "5. Badminton\n",
      "6. Exit\n"
     ]
    },
    {
     "name": "stdin",
     "output_type": "stream",
     "text": [
      "Enter your choice:  6\n"
     ]
    },
    {
     "name": "stdout",
     "output_type": "stream",
     "text": [
      "Exiting the system.\n"
     ]
    }
   ],
   "source": [
    "class Participant:\n",
    "    def __init__(self, name, contact): \n",
    "        self.name = name\n",
    "        self.contact = contact\n",
    "\n",
    "    def __str__(self): \n",
    "        return f\"Name: {self.name}, Contact: {self.contact}\"\n",
    "\n",
    "\n",
    "class SportsManagementSystem:\n",
    "    def __init__(self): \n",
    "        self.sports = {\n",
    "            \"Kabaddi\": [],\n",
    "            \"Cricket\": [],\n",
    "            \"Volleyball\": [],\n",
    "            \"Basketball\": [],\n",
    "            \"Badminton\": [],\n",
    "        }\n",
    "\n",
    "    def add_participant(self, sport, name, contact):\n",
    "        if sport in self.sports:\n",
    "            participant = Participant(name, contact)\n",
    "            self.sports[sport].append(participant)\n",
    "            print(f\"Added participant: {participant} to {sport}\")\n",
    "        else:\n",
    "            print(\"Invalid sport selected.\")\n",
    "\n",
    "    def delete_participant(self, sport, name):\n",
    "        if sport in self.sports:\n",
    "            for participant in self.sports[sport]:\n",
    "                if participant.name.lower() == name.lower():\n",
    "                    self.sports[sport].remove(participant)\n",
    "                    print(f\"Deleted participant: {participant} from {sport}\")\n",
    "                    return\n",
    "            print(f\"Participant with name '{name}' not found in {sport}.\")\n",
    "        else:\n",
    "            print(\"Invalid sport selected.\")\n",
    "\n",
    "    def view_participants(self, sport):\n",
    "        if sport in self.sports:\n",
    "            print(f\"\\nParticipants in {sport}:\")\n",
    "            if not self.sports[sport]:\n",
    "                print(\"No participants registered.\")\n",
    "            else:\n",
    "                for idx, participant in enumerate(self.sports[sport], start=1):\n",
    "                    print(f\"{idx}. {participant}\")\n",
    "        else:\n",
    "            print(\"Invalid sport selected.\")\n",
    "\n",
    "    def run(self):\n",
    "        while True:\n",
    "            print(\"\\n=== Sports Management System for Spoural 2025 ===\")\n",
    "            print(\"Select a sport:\")\n",
    "            print(\"1. Kabaddi\")\n",
    "            print(\"2. Cricket\")\n",
    "            print(\"3. Volleyball\")\n",
    "            print(\"4. Basketball\")\n",
    "            print(\"5. Badminton\")\n",
    "            print(\"6. Exit\")\n",
    "\n",
    "            choice = input(\"Enter your choice: \")\n",
    "\n",
    "            if choice in ['1', '2', '3', '4', '5']:\n",
    "                sport_mapping = {\n",
    "                    '1': \"Kabaddi\",\n",
    "                    '2': \"Cricket\",\n",
    "                    '3': \"Volleyball\",\n",
    "                    '4': \"Basketball\",\n",
    "                    '5': \"Badminton\"\n",
    "                }\n",
    "\n",
    "                sport = sport_mapping[choice]\n",
    "                self.view_participants(sport)\n",
    "\n",
    "                action = input(f\"Do you want to (A)dd, (V)iew, or (D)elete participants in {sport}? (A/V/D): \").strip().lower()\n",
    "\n",
    "                if action == 'a':\n",
    "                    name = input(\"Enter participant's name: \")\n",
    "                    contact = input(\"Enter participant's contact: \")\n",
    "                    self.add_participant(sport, name, contact)\n",
    "                elif action == 'v':\n",
    "                    self.view_participants(sport)\n",
    "                elif action == 'd':\n",
    "                    name = input(\"Enter the name of the participant to delete: \")\n",
    "                    self.delete_participant(sport, name)\n",
    "                else:\n",
    "                    print(\"Invalid action. Please select 'A', 'V', or 'D'.\")\n",
    "\n",
    "            elif choice == '6':\n",
    "                print(\"Exiting the system.\")\n",
    "                break\n",
    "            else:\n",
    "                print(\"Invalid choice, please try again.\")\n",
    "\n",
    "\n",
    "if __name__ == \"__main__\": \n",
    "    system = SportsManagementSystem()\n",
    "    system.run()\n"
   ]
  },
  {
   "cell_type": "code",
   "execution_count": null,
   "id": "5f9378e3-895b-440e-913f-13e00871c144",
   "metadata": {},
   "outputs": [],
   "source": []
  }
 ],
 "metadata": {
  "kernelspec": {
   "display_name": "Python [conda env:base] *",
   "language": "python",
   "name": "conda-base-py"
  },
  "language_info": {
   "codemirror_mode": {
    "name": "ipython",
    "version": 3
   },
   "file_extension": ".py",
   "mimetype": "text/x-python",
   "name": "python",
   "nbconvert_exporter": "python",
   "pygments_lexer": "ipython3",
   "version": "3.12.7"
  }
 },
 "nbformat": 4,
 "nbformat_minor": 5
}
