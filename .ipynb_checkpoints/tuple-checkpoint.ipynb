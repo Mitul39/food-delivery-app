{
 "cells": [
  {
   "cell_type": "code",
   "execution_count": 184,
   "id": "0a94a3dd-1205-4862-a54e-26e15bf4ee71",
   "metadata": {},
   "outputs": [],
   "source": [
    "l1 = [1,2,12,23,4.6,66,32,4]"
   ]
  },
  {
   "cell_type": "code",
   "execution_count": null,
   "id": "0b235a3a-7bb2-4a78-b8f5-9c2101cc93c1",
   "metadata": {},
   "outputs": [],
   "source": [
    "print(l1[3])"
   ]
  },
  {
   "cell_type": "code",
   "execution_count": null,
   "id": "545e2e10-25ac-4c63-9765-7bb0a57836cf",
   "metadata": {},
   "outputs": [],
   "source": [
    "l2 = [3,5,2,45,2,9,44]"
   ]
  },
  {
   "cell_type": "code",
   "execution_count": null,
   "id": "90ef3790-485f-4c0a-89bb-0400607b147a",
   "metadata": {},
   "outputs": [],
   "source": [
    "print(l2[-3])"
   ]
  },
  {
   "cell_type": "code",
   "execution_count": null,
   "id": "7498b47e-7a01-4954-a9cf-6709685cdc36",
   "metadata": {},
   "outputs": [],
   "source": [
    "name = [\"Mitul\", \"Kathan\", \"Dhruvil\", \"Dhruv\"]"
   ]
  },
  {
   "cell_type": "code",
   "execution_count": null,
   "id": "84723713-2b70-4ae7-a8b0-c624bf131c3b",
   "metadata": {},
   "outputs": [],
   "source": [
    "print(name[3])"
   ]
  },
  {
   "cell_type": "code",
   "execution_count": null,
   "id": "5fc4dcce-bc2b-491a-b80b-81bd3883e33b",
   "metadata": {},
   "outputs": [],
   "source": [
    "l1.reverse()"
   ]
  },
  {
   "cell_type": "code",
   "execution_count": null,
   "id": "1a2e4168-e6d8-4f09-8c7f-1ccd91abbb0c",
   "metadata": {},
   "outputs": [],
   "source": [
    "l2.insert(2,200)"
   ]
  },
  {
   "cell_type": "code",
   "execution_count": null,
   "id": "e55bfb78-f171-4b48-8362-8aef0cafe12f",
   "metadata": {},
   "outputs": [],
   "source": [
    "print(l2)"
   ]
  },
  {
   "cell_type": "code",
   "execution_count": null,
   "id": "0c1a1bc3-441b-444d-bddc-0c2c2572ae00",
   "metadata": {},
   "outputs": [],
   "source": [
    "print(l2[-2:-7:-1])"
   ]
  },
  {
   "cell_type": "code",
   "execution_count": null,
   "id": "4d45b8de-7774-4779-b3f4-fa87c17fc3b0",
   "metadata": {},
   "outputs": [],
   "source": [
    "l2.remove(200)"
   ]
  },
  {
   "cell_type": "code",
   "execution_count": null,
   "id": "903e2591-75b8-4be6-8c03-96dc044b50d8",
   "metadata": {},
   "outputs": [],
   "source": [
    "print(l2)"
   ]
  },
  {
   "cell_type": "code",
   "execution_count": null,
   "id": "ae7ed76a-e49e-4012-b1a3-e37dbed70f9d",
   "metadata": {},
   "outputs": [],
   "source": [
    "print(l2[0:4:1])"
   ]
  },
  {
   "cell_type": "code",
   "execution_count": null,
   "id": "bf9e8627-7a69-4911-b0c3-f2e83bd2f987",
   "metadata": {},
   "outputs": [],
   "source": [
    "l2.pop()"
   ]
  },
  {
   "cell_type": "code",
   "execution_count": null,
   "id": "991e576c-8df8-4a52-8607-4c1c96f57760",
   "metadata": {},
   "outputs": [],
   "source": [
    "l2.append(9)"
   ]
  },
  {
   "cell_type": "code",
   "execution_count": null,
   "id": "662c0321-495d-44a8-aa3c-59b865618e52",
   "metadata": {},
   "outputs": [],
   "source": [
    "name.insert(5,'yoo')"
   ]
  },
  {
   "cell_type": "code",
   "execution_count": null,
   "id": "0c2a4c76-606b-4e3d-b73c-82816644f70e",
   "metadata": {},
   "outputs": [],
   "source": [
    "print(name)"
   ]
  },
  {
   "cell_type": "code",
   "execution_count": null,
   "id": "d5a76b44-5d22-4659-ab83-f13ce1f2c1cc",
   "metadata": {},
   "outputs": [],
   "source": [
    "r=l2 + l2 + l2\n"
   ]
  },
  {
   "cell_type": "code",
   "execution_count": null,
   "id": "86cc8b52-e811-4542-8db4-fbd82347760a",
   "metadata": {},
   "outputs": [],
   "source": [
    "print(r)"
   ]
  },
  {
   "cell_type": "code",
   "execution_count": 188,
   "id": "8b92547b-0118-4c05-959a-8bf7709abd87",
   "metadata": {},
   "outputs": [],
   "source": [
    "haha = (2,3,4,5,6) "
   ]
  },
  {
   "cell_type": "code",
   "execution_count": 190,
   "id": "beefd802-6b9b-4406-bc9b-4c06d688372c",
   "metadata": {},
   "outputs": [
    {
     "data": {
      "text/plain": [
       "2"
      ]
     },
     "execution_count": 190,
     "metadata": {},
     "output_type": "execute_result"
    }
   ],
   "source": [
    "haha.index(4)"
   ]
  },
  {
   "cell_type": "code",
   "execution_count": null,
   "id": "f660c5e7-44b1-4b8c-9fd4-9f8ce83857f4",
   "metadata": {},
   "outputs": [],
   "source": [
    "even = [1,2,3,4,5,6,7,8,9,10,11,12,13,14,15,16,17,18,19,20]\n",
    "even2 = []\n",
    "\n",
    "for i in even:\n",
    "    if(i%2==0):\n",
    "        even2.append(i)"
   ]
  },
  {
   "cell_type": "code",
   "execution_count": null,
   "id": "2e4badfb-7a03-44b6-862e-0a88e799d9cc",
   "metadata": {},
   "outputs": [],
   "source": []
  },
  {
   "cell_type": "code",
   "execution_count": null,
   "id": "bc370c1d-6149-42c6-8448-a514317f1baa",
   "metadata": {},
   "outputs": [],
   "source": [
    "print(even2)"
   ]
  },
  {
   "cell_type": "code",
   "execution_count": 192,
   "id": "d8599cb5-279e-4886-9406-a54ca6afd4da",
   "metadata": {},
   "outputs": [
    {
     "name": "stdout",
     "output_type": "stream",
     "text": [
      "5\n"
     ]
    }
   ],
   "source": [
    "print(len(haha))"
   ]
  },
  {
   "cell_type": "code",
   "execution_count": 232,
   "id": "a60b83ae-029c-4928-ba29-258f59fd8d13",
   "metadata": {},
   "outputs": [],
   "source": [
    "v = (1, 2, 3, 4, 5)\n"
   ]
  },
  {
   "cell_type": "code",
   "execution_count": 234,
   "id": "a0e7b2bc-f573-4676-adcb-21b55f7ed50e",
   "metadata": {},
   "outputs": [
    {
     "ename": "TypeError",
     "evalue": "'list' object is not callable",
     "output_type": "error",
     "traceback": [
      "\u001b[1;31m---------------------------------------------------------------------------\u001b[0m",
      "\u001b[1;31mTypeError\u001b[0m                                 Traceback (most recent call last)",
      "Cell \u001b[1;32mIn[234], line 1\u001b[0m\n\u001b[1;32m----> 1\u001b[0m c \u001b[38;5;241m=\u001b[39m \u001b[38;5;28mlist\u001b[39m(v)\n",
      "\u001b[1;31mTypeError\u001b[0m: 'list' object is not callable"
     ]
    }
   ],
   "source": [
    "c = list(v)\n"
   ]
  },
  {
   "cell_type": "code",
   "execution_count": null,
   "id": "123657d9-2116-4dba-b52b-ce1110abd4d2",
   "metadata": {},
   "outputs": [],
   "source": []
  }
 ],
 "metadata": {
  "kernelspec": {
   "display_name": "Python [conda env:base] *",
   "language": "python",
   "name": "conda-base-py"
  },
  "language_info": {
   "codemirror_mode": {
    "name": "ipython",
    "version": 3
   },
   "file_extension": ".py",
   "mimetype": "text/x-python",
   "name": "python",
   "nbconvert_exporter": "python",
   "pygments_lexer": "ipython3",
   "version": "3.12.7"
  }
 },
 "nbformat": 4,
 "nbformat_minor": 5
}
