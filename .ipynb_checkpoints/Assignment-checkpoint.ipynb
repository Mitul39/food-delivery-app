{
 "cells": [
  {
   "cell_type": "code",
   "execution_count": 55,
   "id": "58a10cbd-b544-497d-b7f5-6f6dcdb49e46",
   "metadata": {},
   "outputs": [
    {
     "name": "stdout",
     "output_type": "stream",
     "text": [
      "{10, 20, 50, 30}\n"
     ]
    }
   ],
   "source": [
    "# LIST\n",
    "# 1. Write a function that takes a tuple as an argument and returns the tuple with all duplicates removed. \n",
    "#Creating a tuple\n",
    "tup = (10,20,30,10,20,50)\n",
    "\n",
    "#removing duplicate elements\n",
    "ans = set(tup)\n",
    "\n",
    "#print tuple without duplicate elements\n",
    "print(ans)"
   ]
  },
  {
   "cell_type": "code",
   "execution_count": 33,
   "id": "6b6fe593-717b-472b-8e04-ebff8451444e",
   "metadata": {},
   "outputs": [
    {
     "name": "stdout",
     "output_type": "stream",
     "text": [
      "[(85, 'kathan'), (88, 'dhruvil'), (90, 'Mitul')]\n"
     ]
    }
   ],
   "source": [
    "# 2. Create a list of tuples representing student names and marks, and sort the list by marks. \n",
    "\n",
    "#Creating a list of tuple\n",
    "data = [(90,'Mitul'),(85,'kathan'),(88,'dhruvil')]\n",
    "\n",
    "#Sorting the tuple According the Marks\n",
    "sort = sorted(data)\n",
    "\n",
    "#Printing the Element according Marks\n",
    "print(sort)"
   ]
  },
  {
   "cell_type": "code",
   "execution_count": 31,
   "id": "44fbd9ed-3d2f-477b-96eb-e7a452d73925",
   "metadata": {},
   "outputs": [
    {
     "data": {
      "text/plain": [
       "2"
      ]
     },
     "execution_count": 31,
     "metadata": {},
     "output_type": "execute_result"
    }
   ],
   "source": [
    "# 3. Write a program to count the frequency of elements in a tuple using Counter from the collections module. \n",
    "\n",
    "#Creating a list of tuple\n",
    "sample_tup = (10,20,30,10,20,50)\n",
    "\n",
    "#Counting the element \n",
    "sample_tup.count(10)"
   ]
  },
  {
   "cell_type": "code",
   "execution_count": 73,
   "id": "c50f4617-e69b-4345-8c95-ee04edb12c8e",
   "metadata": {},
   "outputs": [
    {
     "name": "stdout",
     "output_type": "stream",
     "text": [
      "\n",
      "Search by ID \n",
      "Found Record: (45, 'Mitul', 98) \n",
      "\n",
      "Search by NAME \n",
      "Found Record: (46, 'Kathan', 89) \n",
      "\n",
      "search by MARK \n",
      "Found Record: (61, 'Dhruvil', 67) \n"
     ]
    }
   ],
   "source": [
    "# 4. Implement a tuple-based record system where each tuple represents a record (ID, Name, and Marks) and perform search operations.\n",
    "\n",
    "#Creating set of tuple\n",
    "lists = [(45,'Mitul',98),(46,'Kathan',89),(61,'Dhruvil',67)]\n",
    "\n",
    "#Creat a function for Search by ID\n",
    "def search_by_id(search_id):\n",
    "    for ls in lists:\n",
    "        if ls[0] == search_id:\n",
    "            return ls\n",
    "    return None\n",
    "\n",
    "#Creat a function for Search by NAME\n",
    "def search_by_name(search_name):\n",
    "    for ls in lists:\n",
    "        if ls[1].lower() == search_name.lower():\n",
    "            return ls\n",
    "    return None\n",
    "\n",
    "\n",
    "#Creat a function for Search by MARKS\n",
    "def search_by_mark(search_mark):\n",
    "    for ls in lists:\n",
    "        if ls[2] == search_mark:\n",
    "            return ls\n",
    "    return None\n",
    "\n",
    "#Searching by ID\n",
    "print(\"\\nSearch by ID \")\n",
    "ls = search_by_id(45)\n",
    "\n",
    "if ls:\n",
    "    print(f\"Found Record: {ls} \")\n",
    "else:\n",
    "    print(\"Record not found\")\n",
    "\n",
    "\n",
    "#Searching by NAME\n",
    "print(\"\\nSearch by NAME \")\n",
    "ls = search_by_name(\"kathan\")\n",
    "\n",
    "if ls:\n",
    "    print(f\"Found Record: {ls} \")\n",
    "else:\n",
    "    print(\"Record not found\")\n",
    "\n",
    "\n",
    "#Searching by MARK\n",
    "print(\"\\nsearch by MARK \")\n",
    "ls = search_by_mark(67)\n",
    "\n",
    "if ls:\n",
    "    print(f\"Found Record: {ls} \")\n",
    "else:\n",
    "    print(\"Record not found\")"
   ]
  },
  {
   "cell_type": "code",
   "execution_count": 89,
   "id": "c0ae6d52-8bc0-4ec7-8454-61ef946030f1",
   "metadata": {},
   "outputs": [
    {
     "name": "stdout",
     "output_type": "stream",
     "text": [
      "[2, 3, 5, 7, 11, 13, 17, 19]\n"
     ]
    }
   ],
   "source": [
    "# LIST\n",
    "# 1. Implement a program to generate a list of prime numbers within a given range. \n",
    "\n",
    "#Give the range\n",
    "N = 20\n",
    "\n",
    "#Creating the List\n",
    "ls1 = []\n",
    "\n",
    "#Using function for prime number\n",
    "for num in range(0, N + 1):\n",
    "    if num > 1: # all prime #s are greater than 1\n",
    "        for i in range(2,num):\n",
    "            if (num % i) == 0:\n",
    "                break\n",
    "        else:\n",
    "            ls1.append(num)\n",
    "\n",
    "# Printing Prime Number\n",
    "print(ls1)\n"
   ]
  },
  {
   "cell_type": "code",
   "execution_count": 93,
   "id": "29314264-600a-43e9-a3e1-f162dbf28e5e",
   "metadata": {},
   "outputs": [
    {
     "name": "stdout",
     "output_type": "stream",
     "text": [
      "[1, 2, 3, 4, 'Mitul', 'Mistry']\n"
     ]
    }
   ],
   "source": [
    "# 2. Flatten a nested list using recursion.\n",
    "list1 = [1,2]\n",
    "list2 = [3,4]\n",
    "list3 = [\"Mitul\",\"Mistry\"]\n",
    "list4 = list1 + list2 + list3\n",
    "print(list4)"
   ]
  },
  {
   "cell_type": "code",
   "execution_count": null,
   "id": "f97d1f4a-3c7c-4190-99de-2bc6e78726c3",
   "metadata": {},
   "outputs": [],
   "source": [
    "# 3. Write a program to find the second largest element from a list without using built-in functions. "
   ]
  }
 ],
 "metadata": {
  "kernelspec": {
   "display_name": "Python [conda env:base] *",
   "language": "python",
   "name": "conda-base-py"
  },
  "language_info": {
   "codemirror_mode": {
    "name": "ipython",
    "version": 3
   },
   "file_extension": ".py",
   "mimetype": "text/x-python",
   "name": "python",
   "nbconvert_exporter": "python",
   "pygments_lexer": "ipython3",
   "version": "3.12.7"
  }
 },
 "nbformat": 4,
 "nbformat_minor": 5
}
